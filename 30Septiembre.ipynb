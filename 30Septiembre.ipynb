{
  "nbformat": 4,
  "nbformat_minor": 0,
  "metadata": {
    "colab": {
      "name": "30Septiembre.ipynb",
      "provenance": [],
      "authorship_tag": "ABX9TyPdWN7zq4DScUihrmtLXzwl",
      "include_colab_link": true
    },
    "kernelspec": {
      "name": "python3",
      "display_name": "Python 3"
    }
  },
  "cells": [
    {
      "cell_type": "markdown",
      "metadata": {
        "id": "view-in-github",
        "colab_type": "text"
      },
      "source": [
        "<a href=\"https://colab.research.google.com/github/ibzan79/daa_2021_1/blob/master/30Septiembre.ipynb\" target=\"_parent\"><img src=\"https://colab.research.google.com/assets/colab-badge.svg\" alt=\"Open In Colab\"/></a>"
      ]
    },
    {
      "cell_type": "markdown",
      "metadata": {
        "id": "h11njShoQFcP"
      },
      "source": [
        "# Palíndromos\n",
        "Es una palabra que se lee, de igual forma de un sentido y sentido inverso, ejemplos:\n",
        "1. sugus\n",
        "1. oso\n",
        "1. reconocer\n",
        "1. 10101\n",
        "2. 10:01\n",
        "etc.\n",
        "\n",
        "### Plantamiento del problema: \n",
        "Se desea encontrar todos los palíndromos que existen en la franja horaria de un día completo, tomando como horario inicial las 00:00 y como horario final las 23:59 horas. \n",
        "\n",
        "El algoritmo debe mostrar en pantalla todos los palíndromos existentes en ese rango, al final debe mostrar el conteo de total de palíndromos existentes."
      ]
    },
    {
      "cell_type": "code",
      "metadata": {
        "id": "PG2xPCH9P8ER",
        "outputId": "f0082a8f-f545-4b02-8e42-5ac48639a3a7",
        "colab": {
          "base_uri": "https://localhost:8080/",
          "height": 351
        }
      },
      "source": [
        "# Solución\n",
        "hora1 = 0\n",
        "hora2 = 0\n",
        "min1 = 0\n",
        "min2 = 0\n",
        "contador = 0\n",
        "for i in [0,1,2]:\n",
        "  hora1 = i\n",
        "  for j in [0,1,2,3,4,5,6,7,8,9]:\n",
        "    hora2 = j\n",
        "    for k in [0,1,2,3,4,5]:\n",
        "      min1 = k\n",
        "      for l in [0,1,2,3,4,5,6,7,8,9]:\n",
        "        min2 = l\n",
        "        if hora1 == min2 and hora2 == min1: \n",
        "          print(f\"{hora1}{hora2}:{min1}{min2}\")\n",
        "          contador+=1\n",
        "\n",
        "print(f\"Número total de palíndromos: {contador}\")\n",
        "\n",
        "\n",
        "        "
      ],
      "execution_count": 5,
      "outputs": [
        {
          "output_type": "stream",
          "text": [
            "00:00\n",
            "01:10\n",
            "02:20\n",
            "03:30\n",
            "04:40\n",
            "05:50\n",
            "10:01\n",
            "11:11\n",
            "12:21\n",
            "13:31\n",
            "14:41\n",
            "15:51\n",
            "20:02\n",
            "21:12\n",
            "22:22\n",
            "23:32\n",
            "24:42\n",
            "25:52\n",
            "Número total de palíndromos: 18\n"
          ],
          "name": "stdout"
        }
      ]
    }
  ]
}