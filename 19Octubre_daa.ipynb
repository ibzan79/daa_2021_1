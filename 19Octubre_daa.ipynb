{
  "nbformat": 4,
  "nbformat_minor": 0,
  "metadata": {
    "colab": {
      "name": "19Octubre_daa.ipynb",
      "provenance": [],
      "collapsed_sections": [],
      "authorship_tag": "ABX9TyMyYUfRaoswlauUyDyFu4Lt",
      "include_colab_link": true
    },
    "kernelspec": {
      "name": "python3",
      "display_name": "Python 3"
    }
  },
  "cells": [
    {
      "cell_type": "markdown",
      "metadata": {
        "id": "view-in-github",
        "colab_type": "text"
      },
      "source": [
        "<a href=\"https://colab.research.google.com/github/ibzan79/daa_2021_1/blob/master/19Octubre_daa.ipynb\" target=\"_parent\"><img src=\"https://colab.research.google.com/assets/colab-badge.svg\" alt=\"Open In Colab\"/></a>"
      ]
    },
    {
      "cell_type": "code",
      "metadata": {
        "id": "3Af3QmqvMdWX",
        "outputId": "3135bbe0-1666-4dee-82ee-72b44cfbd8c7",
        "colab": {
          "base_uri": "https://localhost:8080/",
          "height": 52
        }
      },
      "source": [
        "a2d = [[3, 2, 1], [6, 4 , 8], [7, 4, 2]]\n",
        "n = 3\n",
        "print(a2d)\n",
        "\n",
        "total = 0 # 1\n",
        "print(\"nivel 1\")\n",
        "for ren in range(n): \n",
        "  sumaRenglon = 0 # n\n",
        "  print(\"nivel 2\")\n",
        "  for col in range(n):\n",
        "    sumaRenglon += a2d[ren][col] # n^2\n",
        "    total += a2d[ren][col] # n^2\n",
        "    print(\"nivel 3\")\n",
        "print(total)"
      ],
      "execution_count": 2,
      "outputs": [
        {
          "output_type": "stream",
          "text": [
            "[[3, 2, 1], [6, 4, 8], [7, 4, 2]]\n",
            "37\n"
          ],
          "name": "stdout"
        }
      ]
    },
    {
      "cell_type": "code",
      "metadata": {
        "id": "GmyNzSdUSJRz",
        "outputId": "208c44f0-484f-4ea5-93a2-3bf5af3c3e8d",
        "colab": {
          "base_uri": "https://localhost:8080/",
          "height": 122
        }
      },
      "source": [
        "i = 4\n",
        "print(\"Nivel 1\")\n",
        "count = 0\n",
        "print(\"Nivel 1\")\n",
        "while i >= 1:\n",
        "  count += 1\n",
        "  i = i // 2 # Log base 2 porque se divide entre 2\n",
        "  print(\"Nivel 2\")\n",
        "basura = 3 + 2\n",
        "print(\"Nivel 1\")"
      ],
      "execution_count": 4,
      "outputs": [
        {
          "output_type": "stream",
          "text": [
            "Nivel 1\n",
            "Nivel 1\n",
            "Nivel 2\n",
            "Nivel 2\n",
            "Nivel 2\n",
            "Nivel 1\n"
          ],
          "name": "stdout"
        }
      ]
    }
  ]
}