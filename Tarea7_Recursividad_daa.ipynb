{
  "nbformat": 4,
  "nbformat_minor": 0,
  "metadata": {
    "colab": {
      "name": "Tarea7_Recursividad_daa.ipynb",
      "provenance": [],
      "collapsed_sections": [],
      "authorship_tag": "ABX9TyO1Kt1bKItxVLNqcCaZ90xn",
      "include_colab_link": true
    },
    "kernelspec": {
      "name": "python3",
      "display_name": "Python 3"
    }
  },
  "cells": [
    {
      "cell_type": "markdown",
      "metadata": {
        "id": "view-in-github",
        "colab_type": "text"
      },
      "source": [
        "<a href=\"https://colab.research.google.com/github/ibzan79/daa_2021_1/blob/master/Tarea7_Recursividad_daa.ipynb\" target=\"_parent\"><img src=\"https://colab.research.google.com/assets/colab-badge.svg\" alt=\"Open In Colab\"/></a>"
      ]
    },
    {
      "cell_type": "code",
      "metadata": {
        "colab": {
          "base_uri": "https://localhost:8080/"
        },
        "id": "vBKkO6RSqR7S",
        "outputId": "3bc6078c-0299-4faa-b659-d6ad09633ab2"
      },
      "source": [
        "# Ejercicio 1: Crear una lista de enteros Python y realizar la suma con recursividad, el caso base es cuando la lista esté vacía.\n",
        "\n",
        "num = [1, 2, 3, 4, 5, 6, 7, 8, 9]\n",
        "def sumaLista(num, suma):\n",
        "    if len(num) == 0:\n",
        "        print(\"La suma es:\", suma)\n",
        "    else:\n",
        "        suma += num[len(num) - 1]\n",
        "        num.pop()\n",
        "        sumaLista(num, suma)\n",
        "sumaLista(num, 0)"
      ],
      "execution_count": 27,
      "outputs": [
        {
          "output_type": "stream",
          "text": [
            "La suma es: 45\n"
          ],
          "name": "stdout"
        }
      ]
    },
    {
      "cell_type": "code",
      "metadata": {
        "colab": {
          "base_uri": "https://localhost:8080/"
        },
        "id": "56DdLQ_zxdWO",
        "outputId": "a62d65ad-a419-4838-f9a9-df4ee5ae733e"
      },
      "source": [
        "# Ejercicio 2: Hacer un contador regresivo con recursión.\n",
        "\n",
        "def contadorRec(numero):\n",
        "    if numero == 0:\n",
        "        print(\"Stop\")\n",
        "    else:\n",
        "        print(numero)\n",
        "        contadorRec(numero - 1)\n",
        "contadorRec(7)"
      ],
      "execution_count": 29,
      "outputs": [
        {
          "output_type": "stream",
          "text": [
            "7\n",
            "6\n",
            "5\n",
            "4\n",
            "3\n",
            "2\n",
            "1\n",
            "Stop\n"
          ],
          "name": "stdout"
        }
      ]
    }
  ]
}