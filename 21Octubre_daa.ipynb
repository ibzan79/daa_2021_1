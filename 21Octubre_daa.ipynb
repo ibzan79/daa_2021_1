{
  "nbformat": 4,
  "nbformat_minor": 0,
  "metadata": {
    "colab": {
      "name": "21Octubre_daa.ipynb",
      "provenance": [],
      "collapsed_sections": [],
      "authorship_tag": "ABX9TyP4IEB3xEdNhSuw9CPnyWwm",
      "include_colab_link": true
    },
    "kernelspec": {
      "name": "python3",
      "display_name": "Python 3"
    }
  },
  "cells": [
    {
      "cell_type": "markdown",
      "metadata": {
        "id": "view-in-github",
        "colab_type": "text"
      },
      "source": [
        "<a href=\"https://colab.research.google.com/github/ibzan79/daa_2021_1/blob/master/21Octubre_daa.ipynb\" target=\"_parent\"><img src=\"https://colab.research.google.com/assets/colab-badge.svg\" alt=\"Open In Colab\"/></a>"
      ]
    },
    {
      "cell_type": "code",
      "metadata": {
        "id": "4SMh20Yfe6dw",
        "outputId": "a1946cc8-5fff-4b17-d025-ff4296d54d58",
        "colab": {
          "base_uri": "https://localhost:8080/",
          "height": 34
        }
      },
      "source": [
        "# 1, T(n) = 4\n",
        "def ejemplo1( n ):\n",
        "  c = n + 1\n",
        "  d = c * n\n",
        "  e = n * n\n",
        "  total = c + e - d\n",
        "  print(f\"total = { total }\")\n",
        "ejemplo1( 99999 )"
      ],
      "execution_count": 3,
      "outputs": [
        {
          "output_type": "stream",
          "text": [
            "total = 1\n"
          ],
          "name": "stdout"
        }
      ]
    },
    {
      "cell_type": "code",
      "metadata": {
        "id": "mWOQRba9agpP",
        "outputId": "f9e8bf25-83df-4766-fb84-8d97087c5e92",
        "colab": {
          "base_uri": "https://localhost:8080/",
          "height": 34
        }
      },
      "source": [
        "# 2, T(n) = 1 + n^2\n",
        "def ejemplo2( n ):\n",
        "  contador = 0\n",
        "  for i in range( n ) :\n",
        "      for j in range( n ) :\n",
        "          contador += 1\n",
        "  return contador\n",
        "\n",
        "ejemplo2( 20 )"
      ],
      "execution_count": 1,
      "outputs": [
        {
          "output_type": "execute_result",
          "data": {
            "text/plain": [
              "400"
            ]
          },
          "metadata": {
            "tags": []
          },
          "execution_count": 1
        }
      ]
    },
    {
      "cell_type": "code",
      "metadata": {
        "id": "Q2OvGj5CfEbQ",
        "outputId": "3af5a64a-8fd7-4f94-d606-fcba08684352",
        "colab": {
          "base_uri": "https://localhost:8080/",
          "height": 34
        }
      },
      "source": [
        "# 3, T(n) = 102\n",
        "def ejemplo3( n ): # n=4\n",
        "  x = n * 2 # x = 8\n",
        "  y = 0   # y = 0\n",
        "  for m in range( 100 ): #3\n",
        "      y = x - n   # y = 4\n",
        "  return y\n",
        "\n",
        "ejemplo3(1000000000)"
      ],
      "execution_count": 4,
      "outputs": [
        {
          "output_type": "execute_result",
          "data": {
            "text/plain": [
              "1000000000"
            ]
          },
          "metadata": {
            "tags": []
          },
          "execution_count": 4
        }
      ]
    },
    {
      "cell_type": "code",
      "metadata": {
        "id": "vNpS7TZyfXBo",
        "outputId": "4fb0e9a7-f84f-4900-dbda-484fb2ee77e6",
        "colab": {
          "base_uri": "https://localhost:8080/",
          "height": 34
        }
      },
      "source": [
        "# 4, T(n) = 3\n",
        "def ejemplo4( n ):\n",
        "    x = 3 * 3.1416 + n\n",
        "    y = x + 3 * 3 - n\n",
        "    z = x + y\n",
        "    return z\n",
        "\n",
        "ejemplo4(9)"
      ],
      "execution_count": 5,
      "outputs": [
        {
          "output_type": "execute_result",
          "data": {
            "text/plain": [
              "36.849599999999995"
            ]
          },
          "metadata": {
            "tags": []
          },
          "execution_count": 5
        }
      ]
    },
    {
      "cell_type": "code",
      "metadata": {
        "id": "07hhjA1Hfxkq",
        "outputId": "362dae8a-3625-4cc1-a950-0c7a680efb3b",
        "colab": {
          "base_uri": "https://localhost:8080/",
          "height": 34
        }
      },
      "source": [
        "# 5, T(x) = 1 + x\n",
        "def ejemplo5( x ):\n",
        "  n = 10\n",
        "  for j in range( 0 , x , 1 ):\n",
        "      n = j + n\n",
        "  return n\n",
        "\n",
        "ejemplo5(10)"
      ],
      "execution_count": 6,
      "outputs": [
        {
          "output_type": "execute_result",
          "data": {
            "text/plain": [
              "55"
            ]
          },
          "metadata": {
            "tags": []
          },
          "execution_count": 6
        }
      ]
    },
    {
      "cell_type": "code",
      "metadata": {
        "id": "Av7o_ls0glIp",
        "outputId": "0437ff33-46a7-4d09-e216-13b52ad6c301",
        "colab": {
          "base_uri": "https://localhost:8080/",
          "height": 34
        }
      },
      "source": [
        "# 6, T(n) = 2 + n^3\n",
        "def ejemplo6( n ):\n",
        "  data=[[[1 for x in range(n)] for x in range(n)] for x in range(n)]\n",
        "  suma = 0\n",
        "  for d in range(n):\n",
        "      for r in range(n):\n",
        "          for c in range(n):\n",
        "              suma += data[d][r][c]\n",
        "  return suma\n",
        "print(ejemplo6( 3 ))"
      ],
      "execution_count": 7,
      "outputs": [
        {
          "output_type": "stream",
          "text": [
            "27\n"
          ],
          "name": "stdout"
        }
      ]
    },
    {
      "cell_type": "code",
      "metadata": {
        "id": "SKyDXRLnma5C",
        "outputId": "0dc4545a-0b07-465d-8264-42a836b0bdd6",
        "colab": {
          "base_uri": "https://localhost:8080/",
          "height": 52
        }
      },
      "source": [
        "# 6 con modificación\n",
        "from time import time\n",
        "def ejemplo6( n ):\n",
        "  start_time = time()\n",
        "  data=[[[1 for x in range(n)] for x in range(n)] \n",
        "        for x in range(n)]\n",
        "  suma = 0\n",
        "  for d in range(n):\n",
        "      for r in range(n):\n",
        "          for c in range(n):\n",
        "              suma += data[d][r][c]\n",
        "  elapsed_time = time() - start_time\n",
        "  print(\"Tiempo transcurrido: %0.10f segundos.\" % elapsed_time)\n",
        "  return suma\n",
        "\n",
        "ejemplo6(200)\n",
        "\n",
        "#for entrada in range(100, 600, 100):\n",
        "# ejemplo6( entrada )\n"
      ],
      "execution_count": 14,
      "outputs": [
        {
          "output_type": "stream",
          "text": [
            "Tiempo transcurrido: 1.0165879726 segundos.\n"
          ],
          "name": "stdout"
        },
        {
          "output_type": "execute_result",
          "data": {
            "text/plain": [
              "8000000"
            ]
          },
          "metadata": {
            "tags": []
          },
          "execution_count": 14
        }
      ]
    }
  ]
}