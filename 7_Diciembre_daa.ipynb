{
  "nbformat": 4,
  "nbformat_minor": 0,
  "metadata": {
    "colab": {
      "name": "7_Diciembre_daa.ipynb",
      "provenance": [],
      "authorship_tag": "ABX9TyOA3QFTBl5twyn8FUwIYowL",
      "include_colab_link": true
    },
    "kernelspec": {
      "name": "python3",
      "display_name": "Python 3"
    }
  },
  "cells": [
    {
      "cell_type": "markdown",
      "metadata": {
        "id": "view-in-github",
        "colab_type": "text"
      },
      "source": [
        "<a href=\"https://colab.research.google.com/github/ibzan79/daa_2021_1/blob/master/7_Diciembre_daa.ipynb\" target=\"_parent\"><img src=\"https://colab.research.google.com/assets/colab-badge.svg\" alt=\"Open In Colab\"/></a>"
      ]
    },
    {
      "cell_type": "code",
      "metadata": {
        "id": "SkWcclGQ_mT2"
      },
      "source": [
        "def fnRecInfinita():\n",
        "    print(\"Hola\")\n",
        "    fnRecInfinita()"
      ],
      "execution_count": null,
      "outputs": []
    },
    {
      "cell_type": "code",
      "metadata": {
        "id": "BwBdX4KX_8Te"
      },
      "source": [
        "fnRecInfinita()"
      ],
      "execution_count": null,
      "outputs": []
    },
    {
      "cell_type": "code",
      "metadata": {
        "colab": {
          "base_uri": "https://localhost:8080/"
        },
        "id": "4ktqjtpZARZu",
        "outputId": "30e4bfa6-0066-442b-eafb-1ea16b93f3e4"
      },
      "source": [
        "def fnRec(x):\n",
        "    if(x == 0):\n",
        "        print(\"Stop\")\n",
        "    else:\n",
        "        fnRec(x - 1)\n",
        "        print(x)\n",
        "\n",
        "def main():\n",
        "    print(\"Inicio de programa\")\n",
        "    fnRec(5)\n",
        "    print(\"Fin del programa\")\n",
        "\n",
        "main()"
      ],
      "execution_count": null,
      "outputs": [
        {
          "output_type": "stream",
          "text": [
            "Inicio de programa\n",
            "Stop\n",
            "1\n",
            "2\n",
            "3\n",
            "4\n",
            "5\n",
            "Fin del programa\n"
          ],
          "name": "stdout"
        }
      ]
    },
    {
      "cell_type": "code",
      "metadata": {
        "colab": {
          "base_uri": "https://localhost:8080/"
        },
        "id": "eiqSK1abBag4",
        "outputId": "2b8e6dfa-2c19-4ff8-bd9e-f3a3b0fbd12e"
      },
      "source": [
        "def printRev(x):\n",
        "    if x > 0:\n",
        "        print(x)\n",
        "        printRev(x - 1)\n",
        "\n",
        "printRev(3)"
      ],
      "execution_count": null,
      "outputs": [
        {
          "output_type": "stream",
          "text": [
            "3\n",
            "2\n",
            "1\n"
          ],
          "name": "stdout"
        }
      ]
    },
    {
      "cell_type": "code",
      "metadata": {
        "colab": {
          "base_uri": "https://localhost:8080/"
        },
        "id": "HU0LAacTEIbd",
        "outputId": "273bc4e8-216b-4971-a79b-5b5ff9dc8a3e"
      },
      "source": [
        "def printRev(x):\n",
        "    if x > 0:\n",
        "        printRev(x - 1)\n",
        "        print(x)\n",
        "\n",
        "printRev(3)"
      ],
      "execution_count": null,
      "outputs": [
        {
          "output_type": "stream",
          "text": [
            "1\n",
            "2\n",
            "3\n"
          ],
          "name": "stdout"
        }
      ]
    },
    {
      "cell_type": "code",
      "metadata": {
        "colab": {
          "base_uri": "https://localhost:8080/"
        },
        "id": "ko1AZLKDIsaU",
        "outputId": "b2774656-5320-4283-d469-f59678dfd285"
      },
      "source": [
        "def fibonacci(n):\n",
        "    print(\"Llamada:\", n)\n",
        "    if n == 0 or n == 1:\n",
        "        return n\n",
        "    else:\n",
        "        return (fibonacci(n - 1) + fibonacci(n - 2))\n",
        "\n",
        "print(fibonacci(6))"
      ],
      "execution_count": 2,
      "outputs": [
        {
          "output_type": "stream",
          "text": [
            "Llamada: 6\n",
            "Llamada: 5\n",
            "Llamada: 4\n",
            "Llamada: 3\n",
            "Llamada: 2\n",
            "Llamada: 1\n",
            "Llamada: 0\n",
            "Llamada: 1\n",
            "Llamada: 2\n",
            "Llamada: 1\n",
            "Llamada: 0\n",
            "Llamada: 3\n",
            "Llamada: 2\n",
            "Llamada: 1\n",
            "Llamada: 0\n",
            "Llamada: 1\n",
            "Llamada: 4\n",
            "Llamada: 3\n",
            "Llamada: 2\n",
            "Llamada: 1\n",
            "Llamada: 0\n",
            "Llamada: 1\n",
            "Llamada: 2\n",
            "Llamada: 1\n",
            "Llamada: 0\n",
            "8\n"
          ],
          "name": "stdout"
        }
      ]
    }
  ]
}