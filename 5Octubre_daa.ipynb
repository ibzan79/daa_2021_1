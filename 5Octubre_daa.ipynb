{
  "nbformat": 4,
  "nbformat_minor": 0,
  "metadata": {
    "colab": {
      "name": "5Octubre_daa.ipynb",
      "provenance": [],
      "collapsed_sections": [],
      "authorship_tag": "ABX9TyOG7dAaXJ9i7WZMBK1agPrB",
      "include_colab_link": true
    },
    "kernelspec": {
      "name": "python3",
      "display_name": "Python 3"
    }
  },
  "cells": [
    {
      "cell_type": "markdown",
      "metadata": {
        "id": "view-in-github",
        "colab_type": "text"
      },
      "source": [
        "<a href=\"https://colab.research.google.com/github/ibzan79/daa_2021_1/blob/master/5Octubre_daa.ipynb\" target=\"_parent\"><img src=\"https://colab.research.google.com/assets/colab-badge.svg\" alt=\"Open In Colab\"/></a>"
      ]
    },
    {
      "cell_type": "markdown",
      "metadata": {
        "id": "vEnV3_4UACbA"
      },
      "source": [
        "# Estructura de datos Pila (Stack)\n",
        "- Last In First Out (LIFO)\n",
        "- De tipo lineal\n",
        "- Se pueden obtener e ingresar datos desde el tope\n",
        "- Push para agregar\n",
        "- Pop para sacar\n",
        "\n",
        "## Operaciones de las pilas\n",
        "\n",
        "1. is_empty (regresa true o false)\n",
        "1. get_top (regresa el elemento en el tope SIN SACARLO)\n",
        "1. pop (saca el elemento del tope y lo regresa)\n",
        "1. push (mete un elemento en el tope)\n",
        "1. get_lenght (regresa el número de elementos en la pila)\n"
      ]
    },
    {
      "cell_type": "code",
      "metadata": {
        "id": "zQKbB_APFpT5"
      },
      "source": [
        "class Stack:\n",
        "  def __init__( self ):\n",
        "    self.__datos = []\n",
        "\n",
        "  def is_empty( self ):\n",
        "    return len(self.__datos) == 0\n",
        "\n",
        "  def get_top( self ):\n",
        "    return self.__datos[-1]\n",
        "\n",
        "  def pop( self ):\n",
        "    return self.__datos.pop()\n",
        "\n",
        "  def push(self , valor):\n",
        "    self.__datos.append(valor)\n",
        "\n",
        "  def get_lenght( self ):\n",
        "    return len(self.__datos)\n",
        "  \n",
        "  def to_string( self ):\n",
        "    print(\"|----------|\")\n",
        "    for ele in self.__datos[-1::-1]:\n",
        "      print(f\" { ele } \")\n",
        "    print(\"|----------|\")"
      ],
      "execution_count": 3,
      "outputs": []
    },
    {
      "cell_type": "code",
      "metadata": {
        "id": "ICyvw7kPOJ5y",
        "outputId": "93a3f0b2-9093-49eb-cfe0-0c96666db8f7",
        "colab": {
          "base_uri": "https://localhost:8080/",
          "height": 422
        }
      },
      "source": [
        "pila1 = Stack()\n",
        "pila1.push(10)\n",
        "pila1.push(20)\n",
        "pila1.push(1)\n",
        "pila1.push(393)\n",
        "pila1.push(103)\n",
        "pila1.to_string()\n",
        "\n",
        "sacado = pila1.pop()\n",
        "print(sacado)\n",
        "pila1.to_string()\n",
        "\n",
        "print(f\"El elemento en el tope es: {pila1.get_top()}\")\n",
        "pila1.to_string()\n",
        "print(f\"La pila tiene {pila1.get_lenght()} elementos\")\n",
        "print(f\"¿La pila está vacía?: {pila1.is_empty()}\")"
      ],
      "execution_count": 4,
      "outputs": [
        {
          "output_type": "stream",
          "text": [
            "|----------|\n",
            " 103 \n",
            " 393 \n",
            " 1 \n",
            " 20 \n",
            " 10 \n",
            "|----------|\n",
            "103\n",
            "|----------|\n",
            " 393 \n",
            " 1 \n",
            " 20 \n",
            " 10 \n",
            "|----------|\n",
            "El elemento en el tope es: 393\n",
            "|----------|\n",
            " 393 \n",
            " 1 \n",
            " 20 \n",
            " 10 \n",
            "|----------|\n",
            "La pila tiene 4 elementos\n",
            "¿La pila está vacía?: False\n"
          ],
          "name": "stdout"
        }
      ]
    },
    {
      "cell_type": "markdown",
      "metadata": {
        "id": "ow0QPHuKJZkL"
      },
      "source": [
        "# ejemplo de aplicación de pilas\n",
        "\n",
        "x = 4 + 5 + 6 + 3\n",
        "\n",
        "x = 4 + (5 + 6) + 3\n",
        "\n",
        "x = 4 + 5 + 6) + 3\n",
        "\n",
        "x = (4 + (5 + 6) + 3)\n",
        "\n",
        "if(a == b){ System.out.println(b)\n",
        "\n",
        "if(a == b){ System.out.println(b)\n",
        "\n",
        "# reglas\n",
        "### '(' -> push('@')\n",
        "### ')' -> pop()\n",
        "Si al final del recorrido la pila está vacía, entonces la cadena es correcta.\n",
        "Si en un pop desencadena en querer sacar un elemento de la pila vacía significa que la cadena no está balenceada. "
      ]
    },
    {
      "cell_type": "markdown",
      "metadata": {
        "id": "Tsk29MjhNIgL"
      },
      "source": [
        "# tarea\n",
        "Hacer un programa que valide el balanceo de '( )', '[ ]' y '{ }' en programas del lenguaje C y Java.\n",
        "\n",
        "Tomando como el base el código de la clase."
      ]
    }
  ]
}