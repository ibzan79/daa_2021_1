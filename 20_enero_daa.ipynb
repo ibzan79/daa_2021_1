{
  "nbformat": 4,
  "nbformat_minor": 0,
  "metadata": {
    "colab": {
      "name": "20_enero_daa.ipynb",
      "provenance": [],
      "collapsed_sections": [],
      "authorship_tag": "ABX9TyOgdBBoQMsJPPc/8D43YSni",
      "include_colab_link": true
    },
    "kernelspec": {
      "name": "python3",
      "display_name": "Python 3"
    }
  },
  "cells": [
    {
      "cell_type": "markdown",
      "metadata": {
        "id": "view-in-github",
        "colab_type": "text"
      },
      "source": [
        "<a href=\"https://colab.research.google.com/github/ibzan79/daa_2021_1/blob/master/20_enero_daa.ipynb\" target=\"_parent\"><img src=\"https://colab.research.google.com/assets/colab-badge.svg\" alt=\"Open In Colab\"/></a>"
      ]
    },
    {
      "cell_type": "code",
      "metadata": {
        "id": "GH9DoO2hZsjF"
      },
      "source": [
        "class NodoArbol:\r\n",
        "    def __init__(self, dato, hijo_izq = None, hijo_der = None):\r\n",
        "        self.dato = dato\r\n",
        "        self.left = hijo_izq\r\n",
        "        self.right = hijo_der  "
      ],
      "execution_count": null,
      "outputs": []
    },
    {
      "cell_type": "markdown",
      "metadata": {
        "id": "6de4SzoTMRZj"
      },
      "source": [
        "# Árbol binario de búsqueda \r\n",
        "Los nodos a la izquierda son menores a la raiz y los nodos a la derecha son mayores a la raiz. \r\n",
        "\r\n",
        "Pueden ser recorridos en: pre-orden, in-orden y post-orden."
      ]
    },
    {
      "cell_type": "code",
      "metadata": {
        "id": "E5f0-WbjMKJU"
      },
      "source": [
        "class BinarySearchTree:\r\n",
        "    def __init__(self):\r\n",
        "        self.__root = None\r\n",
        "\r\n",
        "    def insert(self, value):\r\n",
        "        if self.__root == None:\r\n",
        "            self.__root = NodoArbol(value, None, None)\r\n",
        "        else:\r\n",
        "            self.__insert_nodo__(self.__root, value)\r\n",
        "\r\n",
        "    def __insert_nodo__(self, nodo, value):\r\n",
        "        if nodo.dato == value:\r\n",
        "            pass\r\n",
        "        elif value < nodo.dato: # true va a la izquierda\r\n",
        "            if nodo.left == None: # si hay espacio a la izquierda, ahi va\r\n",
        "                nodo.left = NodoArbol(value, None, None)\r\n",
        "            else:\r\n",
        "                self.__insert_nodo__(nodo.left, value) # buscar en sub arbol izquierdo\r\n",
        "        else:\r\n",
        "            if nodo.right == None:\r\n",
        "                nodo.right = NodoArbol(value, None, None)\r\n",
        "            else:\r\n",
        "                self.__insert_nodo__(nodo.right, value) # buscar en sub arbol derecho\r\n",
        "\r\n",
        "    def buscar(self, value):\r\n",
        "        if self.__root == None:\r\n",
        "            return None\r\n",
        "        else:\r\n",
        "            # Heremos busqueda recursiva\r\n",
        "            return self.__busca_nodo(self.__root, value)\r\n",
        "\r\n",
        "    def __busca_nodo(self, nodo, value):\r\n",
        "        if nodo == None:\r\n",
        "            return None\r\n",
        "        elif nodo.dato == value:\r\n",
        "            return nodo.dato\r\n",
        "        elif value < nodo.dato:\r\n",
        "            return self.__busca_nodo(nodo.left, value)\r\n",
        "        else:\r\n",
        "            return self.__busca_nodo(nodo.right, value)\r\n",
        "\r\n",
        "    def transversal(self, format = \"inorden\"):\r\n",
        "        if format == \"inorden\":\r\n",
        "            self.__recorrido_in(self.__root)\r\n",
        "        elif format == \"preorden\":\r\n",
        "            self.__recorrido_pre(self.__root)\r\n",
        "        elif format == \"posorden\":\r\n",
        "            self.__recorrido_pos(self.__root)\r\n",
        "        else:\r\n",
        "            print(\"Formato de recorrido no valido\")\r\n",
        "\r\n",
        "    def __recorrido_pre(self, nodo):\r\n",
        "        if nodo != None:\r\n",
        "            print(nodo.dato, end = \",\")\r\n",
        "            self.__recorrido_pre(nodo.left)\r\n",
        "            self.__recorrido_pre(nodo.right)\r\n",
        "\r\n",
        "    def __recorrido_in(self, nodo):\r\n",
        "        if nodo != None:\r\n",
        "            self.__recorrido_in(nodo.left)\r\n",
        "            print(nodo.dato, end = \",\")\r\n",
        "            self.__recorrido_in(nodo.right)\r\n",
        "\r\n",
        "    def __recorrido_pos(self, nodo):\r\n",
        "        if nodo != None:\r\n",
        "            self.__recorrido_pos(nodo.left)\r\n",
        "            self.__recorrido_pos(nodo.right)\r\n",
        "            print(nodo.dato, end = \",\")"
      ],
      "execution_count": null,
      "outputs": []
    },
    {
      "cell_type": "code",
      "metadata": {
        "id": "eLcACp-hb4AK",
        "colab": {
          "base_uri": "https://localhost:8080/"
        },
        "outputId": "cb53ee8d-5970-4efd-8993-b9e707a5426d"
      },
      "source": [
        "bst = BinarySearchTree()\r\n",
        "bst.insert(50)\r\n",
        "bst.insert(30)\r\n",
        "bst.insert(20)\r\n",
        "res = bst.buscar(30) # true \r\n",
        "print(\"Dato: \" + str(res))\r\n",
        "print(bst.buscar(40))\r\n",
        "print(\"Recorrido pre:\")\r\n",
        "bst.transversal(format = \"preorden\")\r\n",
        "print(\"Recorrido inorden\")\r\n",
        "bst.transversal()\r\n",
        "print(\"Recorrido pos:\")\r\n",
        "bst.transversal(format = \"posorden\")"
      ],
      "execution_count": null,
      "outputs": [
        {
          "output_type": "stream",
          "text": [
            "Dato: 30\n",
            "None\n",
            "Recorrido pre:\n",
            "50,30,20,Recorrido inorden\n",
            "20,30,50,Recorrido pos:\n",
            "20,30,50,"
          ],
          "name": "stdout"
        }
      ]
    }
  ]
}