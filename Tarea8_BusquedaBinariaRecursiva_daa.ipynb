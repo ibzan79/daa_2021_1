{
  "nbformat": 4,
  "nbformat_minor": 0,
  "metadata": {
    "colab": {
      "name": "Tarea8_BusquedaBinariaRecursiva_daa.ipynb",
      "provenance": [],
      "authorship_tag": "ABX9TyPWLsJjuUIQREeuFHbhH0Nn",
      "include_colab_link": true
    },
    "kernelspec": {
      "name": "python3",
      "display_name": "Python 3"
    }
  },
  "cells": [
    {
      "cell_type": "markdown",
      "metadata": {
        "id": "view-in-github",
        "colab_type": "text"
      },
      "source": [
        "<a href=\"https://colab.research.google.com/github/ibzan79/daa_2021_1/blob/master/Tarea8_BusquedaBinariaRecursiva_daa.ipynb\" target=\"_parent\"><img src=\"https://colab.research.google.com/assets/colab-badge.svg\" alt=\"Open In Colab\"/></a>"
      ]
    },
    {
      "cell_type": "markdown",
      "metadata": {
        "id": "Piv48XF0BgjP"
      },
      "source": [
        "# Planteamiento del problema:\n",
        "\n",
        "El siguiente código se puede considerar la simulación de una pequeña base de datos de alumnos, se encuentra implementado con diccionarios dentro de una lista python.\n",
        "\n",
        "Se puede observar que los alumnos estan ordenados por la llave 'id'.\n",
        "\n",
        "El objetivo de la tarea es realizar busquedas empleando el algoritmo de Búsqueda binaria recursiva.\n",
        "\n",
        "El programa debe solicitar el id a buscar. Posteriormente debe buscar(en la lista bd) el alumno en la base de datos y de existir, mostrará la información completa del alumno como en el siguiente,\n",
        "\n",
        "###ejemplo 1:\n",
        "\n",
        "¿Dame el id del alumno a buscar?: 16\n",
        "\n",
        "Resultado: Diana estudia la carrera DER y tiene un promedio de 9.9\n",
        "\n",
        "###ejemplo 2:\n",
        "\n",
        "¿Dame el id del alumno a buscar?: 15\n",
        "\n",
        "Resultado: El alumno no existe en la base de datos."
      ]
    },
    {
      "cell_type": "code",
      "metadata": {
        "colab": {
          "base_uri": "https://localhost:8080/"
        },
        "id": "4SE7WCtBBc2-",
        "outputId": "775b3b8a-d163-4680-8aba-5be4963e986c"
      },
      "source": [
        "alumno1={'id':2, 'nombre':\"Juan\" , 'carrera':\"ICO\", 'promedio':7.67}\n",
        "alumno2={'id':4, 'nombre':\"Rocio\" , 'carrera':\"ICI\", 'promedio':8.67}\n",
        "alumno3={'id':5, 'nombre':\"Diego\" , 'carrera':\"DER\", 'promedio':8.98}\n",
        "alumno4={'id':7, 'nombre':\"May\" , 'carrera':\"ICI\", 'promedio':9.87}\n",
        "alumno5={'id':9, 'nombre':\"Rob\" , 'carrera':\"IME\", 'promedio':10.00}\n",
        "alumno6={'id':10, 'nombre':\"Santi\" , 'carrera':\"ICO\", 'promedio':5.37}\n",
        "alumno7={'id':14, 'nombre':\"Moy\" , 'carrera':\"IME\", 'promedio':6.85}\n",
        "alumno8={'id':16, 'nombre':\"Diana\" , 'carrera':\"DER\", 'promedio':9.99}\n",
        "alumno9={'id':19, 'nombre':\"Zoila\" , 'carrera':\"ICO\", 'promedio':8.22}\n",
        "alumno10={'id':22, 'nombre':\"Armando\" , 'carrera':\"ICO\", 'promedio':7.32}\n",
        "\n",
        "bd = []\n",
        "bd.append(alumno1)\n",
        "bd.append(alumno2)\n",
        "bd.append(alumno3)\n",
        "bd.append(alumno4)\n",
        "bd.append(alumno5)\n",
        "bd.append(alumno6)\n",
        "bd.append(alumno7)\n",
        "bd.append(alumno8)\n",
        "bd.append(alumno9)\n",
        "bd.append(alumno10)\n",
        "\n",
        "id = int(input(\"Dame el ID del alumno a buscar: \"))\n",
        "\n",
        "def busquedaBinariaRecursiva(id, lista, inicial, final):\n",
        "    medio = (inicial + final) // 2\n",
        "    if inicial >= final:\n",
        "        print(\"El alumno no existe en la base de datos\")\n",
        "    elif lista[medio].get('id') == id:\n",
        "        return medio\n",
        "    elif lista[medio].get('id') < id:\n",
        "        return busquedaBinariaRecursiva(id, lista, (medio + 1), final)\n",
        "    else:\n",
        "        return busquedaBinariaRecursiva(id, lista, inicial, medio)\n",
        "\n",
        "encontrado = busquedaBinariaRecursiva(id, bd, 0, len(bd))\n",
        "print(f\"{bd[encontrado].get('nombre')} estudia la carrera {bd[encontrado].get('carrera')} y tiene un promedio de {bd[encontrado].get('promedio')}\")"
      ],
      "execution_count": 10,
      "outputs": [
        {
          "output_type": "stream",
          "text": [
            "Dame el ID del alumno a buscar: 16\n",
            "Diana estudia la carrera DER y tiene un promedio de 9.99\n"
          ],
          "name": "stdout"
        }
      ]
    }
  ]
}