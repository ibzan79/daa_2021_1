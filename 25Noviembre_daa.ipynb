{
  "nbformat": 4,
  "nbformat_minor": 0,
  "metadata": {
    "colab": {
      "name": "25Noviembre_daa.ipynb",
      "provenance": [],
      "collapsed_sections": [],
      "authorship_tag": "ABX9TyO9vsBeJ/bhngl3WQHQctAm",
      "include_colab_link": true
    },
    "kernelspec": {
      "name": "python3",
      "display_name": "Python 3"
    }
  },
  "cells": [
    {
      "cell_type": "markdown",
      "metadata": {
        "id": "view-in-github",
        "colab_type": "text"
      },
      "source": [
        "<a href=\"https://colab.research.google.com/github/ibzan79/daa_2021_1/blob/master/25Noviembre_daa.ipynb\" target=\"_parent\"><img src=\"https://colab.research.google.com/assets/colab-badge.svg\" alt=\"Open In Colab\"/></a>"
      ]
    },
    {
      "cell_type": "code",
      "metadata": {
        "colab": {
          "base_uri": "https://localhost:8080/"
        },
        "id": "iGA4vaHf5F9k",
        "outputId": "a8da2ed8-35cc-4e0d-bcd3-410ac03f6dcf"
      },
      "source": [
        "frase = \"\"\"El lema que anima a la Universidad Nacional, Por mi raza hablará el espíritu, revela la vocación humanística con la que fue concebida. El autor de esta célebre frase, José Vasconcelos, asumió la rectoría en 1920, en una época en que las esperanzas de la Revolución aún estaban vivas,\n",
        " había una gran fe en la Patria y el ánimo redentor se extendía en el ambiente.\"\"\"\n",
        "\n",
        "frase = frase.strip().replace(\"\\n\", \"\").replace(\",\", \"\").replace(\".\", \"\").lower().split(\" \") # El strip sirve para quitar los espacios y los saltos de línea.\n",
        "print(frase)\n",
        "frecuencias = {}\n",
        "for index in range(len(frase)):\n",
        "    if frase[index] in frecuencias: # el in frecuencias:\n",
        "        pass\n",
        "    else:\n",
        "        frecuencias[frase[index]] = 1 # frecuencias[el] = 1 --> {'el':1}\n",
        "        for pivote in range(index + 1, len(frase), 1):\n",
        "            #print(frase[index], \"comparada contra:\", frase[pivote])\n",
        "            if frase[index] == frase[pivote]:\n",
        "                frecuencias[frase[index]] += 1\n",
        "print(frecuencias)"
      ],
      "execution_count": 10,
      "outputs": [
        {
          "output_type": "stream",
          "text": [
            "['el', 'lema', 'que', 'anima', 'a', 'la', 'universidad', 'nacional', 'por', 'mi', 'raza', 'hablará', 'el', 'espíritu', 'revela', 'la', 'vocación', 'humanística', 'con', 'la', 'que', 'fue', 'concebida', 'el', 'autor', 'de', 'esta', 'célebre', 'frase', 'josé', 'vasconcelos', 'asumió', 'la', 'rectoría', 'en', '1920', 'en', 'una', 'época', 'en', 'que', 'las', 'esperanzas', 'de', 'la', 'revolución', 'aún', 'estaban', 'vivas', 'había', 'una', 'gran', 'fe', 'en', 'la', 'patria', 'y', 'el', 'ánimo', 'redentor', 'se', 'extendía', 'en', 'el', 'ambiente']\n",
            "{'el': 5, 'lema': 1, 'que': 3, 'anima': 1, 'a': 1, 'la': 6, 'universidad': 1, 'nacional': 1, 'por': 1, 'mi': 1, 'raza': 1, 'hablará': 1, 'espíritu': 1, 'revela': 1, 'vocación': 1, 'humanística': 1, 'con': 1, 'fue': 1, 'concebida': 1, 'autor': 1, 'de': 2, 'esta': 1, 'célebre': 1, 'frase': 1, 'josé': 1, 'vasconcelos': 1, 'asumió': 1, 'rectoría': 1, 'en': 5, '1920': 1, 'una': 2, 'época': 1, 'las': 1, 'esperanzas': 1, 'revolución': 1, 'aún': 1, 'estaban': 1, 'vivas': 1, 'había': 1, 'gran': 1, 'fe': 1, 'patria': 1, 'y': 1, 'ánimo': 1, 'redentor': 1, 'se': 1, 'extendía': 1, 'ambiente': 1}\n"
          ],
          "name": "stdout"
        }
      ]
    },
    {
      "cell_type": "code",
      "metadata": {
        "colab": {
          "base_uri": "https://localhost:8080/"
        },
        "id": "Iv2DEonq_lyj",
        "outputId": "6b816b7d-a622-4be1-f120-6df4f2f40406"
      },
      "source": [
        "palabra = 'hola'\n",
        "print(hash(palabra))\n",
        "palabra = 'hole'\n",
        "print(hash(palabra))\n",
        "letra = 'a'\n",
        "print(hash(letra))"
      ],
      "execution_count": 17,
      "outputs": [
        {
          "output_type": "stream",
          "text": [
            "566872436239049304\n",
            "7018509064373908767\n",
            "57467495173064551\n"
          ],
          "name": "stdout"
        }
      ]
    },
    {
      "cell_type": "code",
      "metadata": {
        "colab": {
          "base_uri": "https://localhost:8080/"
        },
        "id": "eLrvRcC5Fc4E",
        "outputId": "a68241d8-71a4-4237-af29-b145a5b161a2"
      },
      "source": [
        "frase = \"\"\"El lema que anima a la Universidad Nacional, Por mi raza hablará el espíritu, revela la vocación humanística con la que fue concebida. El autor de esta célebre frase, José Vasconcelos, asumió la rectoría en 1920, en una época en que las esperanzas de la Revolución aún estaban vivas,\n",
        " había una gran fe en la Patria y el ánimo redentor se extendía en el ambiente.\"\"\"\n",
        "\n",
        "frase = frase.strip().replace(\"\\n\", \"\").replace(\",\", \"\").replace(\".\", \"\").lower().split(\" \")\n",
        "print(frase)\n",
        "frecuencias = {}\n",
        "for index in range(len(frase)):\n",
        "    print(hash(frase[index]))\n",
        "    if frase[index] in frecuencias:\n",
        "        frecuencias[frase[index]] += 1\n",
        "    else:\n",
        "        frecuencias[frase[index]] = 1\n",
        "print(frecuencias)"
      ],
      "execution_count": 18,
      "outputs": [
        {
          "output_type": "stream",
          "text": [
            "['el', 'lema', 'que', 'anima', 'a', 'la', 'universidad', 'nacional', 'por', 'mi', 'raza', 'hablará', 'el', 'espíritu', 'revela', 'la', 'vocación', 'humanística', 'con', 'la', 'que', 'fue', 'concebida', 'el', 'autor', 'de', 'esta', 'célebre', 'frase', 'josé', 'vasconcelos', 'asumió', 'la', 'rectoría', 'en', '1920', 'en', 'una', 'época', 'en', 'que', 'las', 'esperanzas', 'de', 'la', 'revolución', 'aún', 'estaban', 'vivas', 'había', 'una', 'gran', 'fe', 'en', 'la', 'patria', 'y', 'el', 'ánimo', 'redentor', 'se', 'extendía', 'en', 'el', 'ambiente']\n",
            "6398165020036652082\n",
            "4632883191265058081\n",
            "8795976977750516311\n",
            "-2532524446116465435\n",
            "57467495173064551\n",
            "-150538436019318395\n",
            "-7684512714616893772\n",
            "-3630893773121902615\n",
            "4503505656550760593\n",
            "-6898346555575745218\n",
            "-468113974630629718\n",
            "3872006603120766030\n",
            "6398165020036652082\n",
            "-8189218659816860081\n",
            "-1922847245761608596\n",
            "-150538436019318395\n",
            "6389024635115291059\n",
            "5391930165829569974\n",
            "6123687954968792332\n",
            "-150538436019318395\n",
            "8795976977750516311\n",
            "-2743125786507293621\n",
            "-7132725196286870527\n",
            "6398165020036652082\n",
            "2593909975102330374\n",
            "-4807017514720390016\n",
            "6779032411198394890\n",
            "-6160923162007224299\n",
            "762095243022280432\n",
            "2125826066732358466\n",
            "-5595926358407659282\n",
            "5852164827972974777\n",
            "-150538436019318395\n",
            "-392874651429004300\n",
            "-634457707214253314\n",
            "-6776500478092113607\n",
            "-634457707214253314\n",
            "-3057392314410493063\n",
            "557816766277818677\n",
            "-634457707214253314\n",
            "8795976977750516311\n",
            "6714508686214911804\n",
            "-5048266285938014028\n",
            "-4807017514720390016\n",
            "-150538436019318395\n",
            "-6131896678516048852\n",
            "3153654076660177908\n",
            "-880123255836934415\n",
            "1745403649700365143\n",
            "-4061273770685951494\n",
            "-3057392314410493063\n",
            "-4404693418816915841\n",
            "1705155070272930415\n",
            "-634457707214253314\n",
            "-150538436019318395\n",
            "-7596138705328323727\n",
            "-8896183922211909884\n",
            "6398165020036652082\n",
            "-5916124701548396340\n",
            "-61389865598565085\n",
            "8328708389562365584\n",
            "6771825349448119148\n",
            "-634457707214253314\n",
            "6398165020036652082\n",
            "5037269430516484778\n",
            "{'el': 5, 'lema': 1, 'que': 3, 'anima': 1, 'a': 1, 'la': 6, 'universidad': 1, 'nacional': 1, 'por': 1, 'mi': 1, 'raza': 1, 'hablará': 1, 'espíritu': 1, 'revela': 1, 'vocación': 1, 'humanística': 1, 'con': 1, 'fue': 1, 'concebida': 1, 'autor': 1, 'de': 2, 'esta': 1, 'célebre': 1, 'frase': 1, 'josé': 1, 'vasconcelos': 1, 'asumió': 1, 'rectoría': 1, 'en': 5, '1920': 1, 'una': 2, 'época': 1, 'las': 1, 'esperanzas': 1, 'revolución': 1, 'aún': 1, 'estaban': 1, 'vivas': 1, 'había': 1, 'gran': 1, 'fe': 1, 'patria': 1, 'y': 1, 'ánimo': 1, 'redentor': 1, 'se': 1, 'extendía': 1, 'ambiente': 1}\n"
          ],
          "name": "stdout"
        }
      ]
    }
  ]
}