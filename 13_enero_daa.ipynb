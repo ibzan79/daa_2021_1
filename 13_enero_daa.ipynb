{
  "nbformat": 4,
  "nbformat_minor": 0,
  "metadata": {
    "colab": {
      "name": "13_enero_daa.ipynb",
      "provenance": [],
      "authorship_tag": "ABX9TyNEIQtGWypnEcdeTDtOP7bk",
      "include_colab_link": true
    },
    "kernelspec": {
      "name": "python3",
      "display_name": "Python 3"
    }
  },
  "cells": [
    {
      "cell_type": "markdown",
      "metadata": {
        "id": "view-in-github",
        "colab_type": "text"
      },
      "source": [
        "<a href=\"https://colab.research.google.com/github/ibzan79/daa_2021_1/blob/master/13_enero_daa.ipynb\" target=\"_parent\"><img src=\"https://colab.research.google.com/assets/colab-badge.svg\" alt=\"Open In Colab\"/></a>"
      ]
    },
    {
      "cell_type": "code",
      "metadata": {
        "id": "GH9DoO2hZsjF"
      },
      "source": [
        "class NodoArbol:\r\n",
        "    def __init__(self, dato, hijo_izq = None, hijo_der = None):\r\n",
        "        self.data = dato\r\n",
        "        self.left = hijo_izq\r\n",
        "        self.right = hijo_der  "
      ],
      "execution_count": 3,
      "outputs": []
    },
    {
      "cell_type": "markdown",
      "metadata": {
        "id": "6de4SzoTMRZj"
      },
      "source": [
        "# Árbol binario de búsqueda \r\n",
        "Los nodos a la izquierda son menores a la raiz y los nodos a la derecha son mayores a la raiz. \r\n",
        "\r\n",
        "Pueden ser recorridos en: pre-orden, in-orden y post-orden."
      ]
    },
    {
      "cell_type": "code",
      "metadata": {
        "id": "E5f0-WbjMKJU"
      },
      "source": [
        "class BinarySearchTree:\r\n",
        "    def _init_(self):\r\n",
        "        self.__root = None\r\n",
        "\r\n",
        "    def insert(self, value):\r\n",
        "        if self.__root == None:\r\n",
        "            self.__root = NodoArbol(value, None, None)\r\n",
        "        else:\r\n",
        "            self.__insert_nodo__(self.__root, value)\r\n",
        "\r\n",
        "    def __insert_nodo__(self, nodo, value):\r\n",
        "        if nodo.dato == value:\r\n",
        "            pass\r\n",
        "        elif value < nodo.data: # true va a la izquierda\r\n",
        "            if nodo.left == None: # si hay espacio a la izquierda, ahi va\r\n",
        "                nodo.left = NodoArbol(value, None, None)\r\n",
        "            else:\r\n",
        "                self.__insert_nodo__(nodo.left, value) # buscar en sub arbol izquierdo\r\n",
        "        else:\r\n",
        "            if nodo.right == None:\r\n",
        "                nodo.right = NodoArbol(value, None, None)\r\n",
        "            else:\r\n",
        "                self.__insert_nodo__(nodo.right, value) # buscar en sub arbol derecho"
      ],
      "execution_count": 1,
      "outputs": []
    },
    {
      "cell_type": "code",
      "metadata": {
        "id": "eLcACp-hb4AK"
      },
      "source": [
        "bst = BinarySearchTree()\r\n",
        "bst.insert(50)\r\n",
        "bst.insert(30)\r\n",
        "bst.insert(20)\r\n",
        "bst.insert(30) # true "
      ],
      "execution_count": null,
      "outputs": []
    }
  ]
}