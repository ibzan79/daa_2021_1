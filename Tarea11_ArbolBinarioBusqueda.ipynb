{
  "nbformat": 4,
  "nbformat_minor": 0,
  "metadata": {
    "colab": {
      "name": "Tarea11_ArbolBinarioBusqueda.ipynb",
      "provenance": [],
      "collapsed_sections": [],
      "authorship_tag": "ABX9TyOlmz1ZLulwbLn5eg69Ukty",
      "include_colab_link": true
    },
    "kernelspec": {
      "name": "python3",
      "display_name": "Python 3"
    }
  },
  "cells": [
    {
      "cell_type": "markdown",
      "metadata": {
        "id": "view-in-github",
        "colab_type": "text"
      },
      "source": [
        "<a href=\"https://colab.research.google.com/github/ibzan79/daa_2021_1/blob/master/Tarea11_ArbolBinarioBusqueda.ipynb\" target=\"_parent\"><img src=\"https://colab.research.google.com/assets/colab-badge.svg\" alt=\"Open In Colab\"/></a>"
      ]
    },
    {
      "cell_type": "code",
      "metadata": {
        "id": "GH9DoO2hZsjF"
      },
      "source": [
        "class NodoArbol:\r\n",
        "    def __init__(self, dato, hijo_izq = None, hijo_der = None):\r\n",
        "        self.dato = dato\r\n",
        "        self.left = hijo_izq\r\n",
        "        self.right = hijo_der \r\n",
        "\r\n",
        "    def get_dato(self):\r\n",
        "        return self.dato\r\n",
        "\r\n",
        "    def get_left(self):\r\n",
        "        return self.left\r\n",
        "    \r\n",
        "    def get_right(self):\r\n",
        "        return self.right"
      ],
      "execution_count": 2,
      "outputs": []
    },
    {
      "cell_type": "markdown",
      "metadata": {
        "id": "6de4SzoTMRZj"
      },
      "source": [
        "# Árbol binario de búsqueda \r\n",
        "Los nodos a la izquierda son menores a la raiz y los nodos a la derecha son mayores a la raiz. \r\n",
        "\r\n",
        "Pueden ser recorridos en: pre-orden, in-orden y post-orden."
      ]
    },
    {
      "cell_type": "code",
      "metadata": {
        "id": "E5f0-WbjMKJU"
      },
      "source": [
        "class BinarySearchTree:\r\n",
        "    def __init__(self):\r\n",
        "        self.__root = None\r\n",
        "\r\n",
        "    def insert(self, value):\r\n",
        "        if self.__root == None:\r\n",
        "            self.__root = NodoArbol(value, None, None)\r\n",
        "        else:\r\n",
        "            self.__insert_nodo__(self.__root, value)\r\n",
        "\r\n",
        "    def __insert_nodo__(self, nodo, value):\r\n",
        "        if nodo.dato == value:\r\n",
        "            pass\r\n",
        "        elif value < nodo.dato: # true va a la izquierda\r\n",
        "            if nodo.left == None: # si hay espacio a la izquierda, ahi va\r\n",
        "                nodo.left = NodoArbol(value, None, None)\r\n",
        "            else:\r\n",
        "                self.__insert_nodo__(nodo.left, value) # buscar en sub arbol izquierdo\r\n",
        "        else:\r\n",
        "            if nodo.right == None:\r\n",
        "                nodo.right = NodoArbol(value, None, None)\r\n",
        "            else:\r\n",
        "                self.__insert_nodo__(nodo.right, value) # buscar en sub arbol derecho\r\n",
        "\r\n",
        "    def buscar(self, value):\r\n",
        "        if self.__root == None:\r\n",
        "            return None\r\n",
        "        else:\r\n",
        "            # Heremos busqueda recursiva\r\n",
        "            return self.__busca_nodo(self.__root, value)\r\n",
        "\r\n",
        "    def __busca_nodo(self, nodo, value):\r\n",
        "        if nodo == None:\r\n",
        "            return None\r\n",
        "        elif nodo.dato == value:\r\n",
        "            return nodo.dato\r\n",
        "        elif value < nodo.dato:\r\n",
        "            return self.__busca_nodo(nodo.left, value)\r\n",
        "        else:\r\n",
        "            return self.__busca_nodo(nodo.right, value)\r\n",
        "\r\n",
        "    def transversal(self, format = \"inorden\"):\r\n",
        "        if format == \"inorden\":\r\n",
        "            self.__recorrido_in(self.__root)\r\n",
        "        elif format == \"preorden\":\r\n",
        "            self.__recorrido_pre(self.__root)\r\n",
        "        elif format == \"posorden\":\r\n",
        "            self.__recorrido_pos(self.__root)\r\n",
        "        else:\r\n",
        "            print(\"Formato de recorrido no valido\")\r\n",
        "\r\n",
        "    def __recorrido_pre(self, nodo):\r\n",
        "        if nodo != None:\r\n",
        "            print(nodo.dato, end = \",\")\r\n",
        "            self.__recorrido_pre(nodo.left)\r\n",
        "            self.__recorrido_pre(nodo.right)\r\n",
        "\r\n",
        "    def __recorrido_in(self, nodo):\r\n",
        "        if nodo != None:\r\n",
        "            self.__recorrido_in(nodo.left)\r\n",
        "            print(nodo.dato, end = \",\")\r\n",
        "            self.__recorrido_in(nodo.right)\r\n",
        "\r\n",
        "    def __recorrido_pos(self, nodo):\r\n",
        "        if nodo != None:\r\n",
        "            self.__recorrido_pos(nodo.left)\r\n",
        "            self.__recorrido_pos(nodo.right)\r\n",
        "            print(nodo.dato, end = \",\")\r\n",
        "\r\n",
        "    def get_root(self):\r\n",
        "        return self.__root\r\n",
        "\r\n",
        "    def is_empty(self):\r\n",
        "        if self.__root == None:\r\n",
        "            return True\r\n",
        "        return False\r\n",
        "\r\n",
        "    def get_nodo(self, value):\r\n",
        "        nodo = None\r\n",
        "        if (not self.is_empty()):\r\n",
        "            nodo = self.__root\r\n",
        "            while nodo != None and nodo.dato != value:\r\n",
        "                if value < nodo.dato:\r\n",
        "                    nodo = nodo.left\r\n",
        "                else: \r\n",
        "                    nodo = nodo.right\r\n",
        "        return nodo\r\n",
        "\r\n",
        "    def eliminar(self, value):\r\n",
        "        if (not self.is_empty()):\r\n",
        "            nodo = self.get_nodo(value)\r\n",
        "            if (nodo != None):\r\n",
        "                if nodo.left == None and nodo.right == None:\r\n",
        "                    nodo = None\r\n",
        "                elif nodo.left == None and nodo.right != None:\r\n",
        "                    self.eliminar(nodo.right)\r\n",
        "                    nodo = nodo.right\r\n",
        "                elif nodo.left != None and nodo.right == None:\r\n",
        "                    self.eliminar(nodo.left)\r\n",
        "                    nodo = nodo.left\r\n",
        "                #else:\r\n"
      ],
      "execution_count": 3,
      "outputs": []
    },
    {
      "cell_type": "code",
      "metadata": {
        "id": "eLcACp-hb4AK",
        "colab": {
          "base_uri": "https://localhost:8080/"
        },
        "outputId": "cb53ee8d-5970-4efd-8993-b9e707a5426d"
      },
      "source": [
        "bst = BinarySearchTree()\r\n",
        "bst.insert(50)\r\n",
        "bst.insert(30)\r\n",
        "bst.insert(20)\r\n",
        "res = bst.buscar(30) # true \r\n",
        "print(\"Dato: \" + str(res))\r\n",
        "print(bst.buscar(40))\r\n",
        "print(\"Recorrido pre:\")\r\n",
        "bst.transversal(format = \"preorden\")\r\n",
        "print(\"Recorrido inorden\")\r\n",
        "bst.transversal()\r\n",
        "print(\"Recorrido pos:\")\r\n",
        "bst.transversal(format = \"posorden\")"
      ],
      "execution_count": null,
      "outputs": [
        {
          "output_type": "stream",
          "text": [
            "Dato: 30\n",
            "None\n",
            "Recorrido pre:\n",
            "50,30,20,Recorrido inorden\n",
            "20,30,50,Recorrido pos:\n",
            "20,30,50,"
          ],
          "name": "stdout"
        }
      ]
    },
    {
      "cell_type": "code",
      "metadata": {
        "colab": {
          "base_uri": "https://localhost:8080/"
        },
        "id": "zXfUDgnRVQC_",
        "outputId": "18372550-430d-407d-8f07-19ac864118a8"
      },
      "source": [
        "bst2 = BinarySearchTree()\r\n",
        "bst2.insert(50)\r\n",
        "bst2.insert(40)\r\n",
        "bst2.insert(20)\r\n",
        "bst2.insert(45)\r\n",
        "bst2.insert(80)\r\n",
        "bst2.insert(60)\r\n",
        "bst2.insert(90)\r\n",
        "bst2.insert(85)\r\n",
        "bst2.insert(100)\r\n",
        "bst2.insert(95)\r\n",
        "bst2.eliminar(95)\r\n",
        "print(\"Recorrido pre:\")\r\n",
        "bst2.transversal(format = \"preorden\")"
      ],
      "execution_count": 4,
      "outputs": [
        {
          "output_type": "stream",
          "text": [
            "Recorrido pre:\n",
            "50,40,20,45,80,60,90,85,100,95,"
          ],
          "name": "stdout"
        }
      ]
    }
  ]
}