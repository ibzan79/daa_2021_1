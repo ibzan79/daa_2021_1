{
  "nbformat": 4,
  "nbformat_minor": 0,
  "metadata": {
    "colab": {
      "name": "Tarea11_ArbolBinarioBusqueda.ipynb",
      "provenance": [],
      "collapsed_sections": [],
      "authorship_tag": "ABX9TyOpqdCld2pilakWP1MSRUma",
      "include_colab_link": true
    },
    "kernelspec": {
      "name": "python3",
      "display_name": "Python 3"
    }
  },
  "cells": [
    {
      "cell_type": "markdown",
      "metadata": {
        "id": "view-in-github",
        "colab_type": "text"
      },
      "source": [
        "<a href=\"https://colab.research.google.com/github/ibzan79/daa_2021_1/blob/master/Tarea11_ArbolBinarioBusqueda.ipynb\" target=\"_parent\"><img src=\"https://colab.research.google.com/assets/colab-badge.svg\" alt=\"Open In Colab\"/></a>"
      ]
    },
    {
      "cell_type": "code",
      "metadata": {
        "id": "GH9DoO2hZsjF"
      },
      "source": [
        "class NodoArbol:\r\n",
        "    def __init__(self, dato, hijo_izq = None, hijo_der = None):\r\n",
        "        self.dato = dato\r\n",
        "        self.left = hijo_izq\r\n",
        "        self.right = hijo_der "
      ],
      "execution_count": 52,
      "outputs": []
    },
    {
      "cell_type": "markdown",
      "metadata": {
        "id": "6de4SzoTMRZj"
      },
      "source": [
        "# Árbol binario de búsqueda \r\n",
        "Los nodos a la izquierda son menores a la raiz y los nodos a la derecha son mayores a la raiz. \r\n",
        "\r\n",
        "Pueden ser recorridos en: pre-orden, in-orden y post-orden."
      ]
    },
    {
      "cell_type": "code",
      "metadata": {
        "id": "E5f0-WbjMKJU"
      },
      "source": [
        "class BinarySearchTree:\r\n",
        "    def __init__(self):\r\n",
        "        self.__root = None\r\n",
        "        self.altura = 0\r\n",
        "\r\n",
        "    def get_raiz(self):\r\n",
        "        return self.__root\r\n",
        "\r\n",
        "    def set_raiz(self, raiz):\r\n",
        "        self.__root = raiz\r\n",
        "\r\n",
        "    def get_altura(self):\r\n",
        "        return self.altura\r\n",
        "\r\n",
        "    def set_altura(self, altura):\r\n",
        "        self.altura = altura\r\n",
        "\r\n",
        "    def insert(self, value):\r\n",
        "        if self.__root == None:\r\n",
        "            self.__root = NodoArbol(value, None, None)\r\n",
        "        else:\r\n",
        "            self.__insert_nodo__(self.__root, value)\r\n",
        "\r\n",
        "    def __insert_nodo__(self, nodo, value):\r\n",
        "        if nodo.dato == value:\r\n",
        "            pass\r\n",
        "        elif value < nodo.dato: # true va a la izquierda\r\n",
        "            if nodo.left == None: # si hay espacio a la izquierda, ahi va\r\n",
        "                nodo.left = NodoArbol(value, None, None)\r\n",
        "            else:\r\n",
        "                self.__insert_nodo__(nodo.left, value) # buscar en sub arbol izquierdo\r\n",
        "        else:\r\n",
        "            if nodo.right == None:\r\n",
        "                nodo.right = NodoArbol(value, None, None)\r\n",
        "            else:\r\n",
        "                self.__insert_nodo__(nodo.right, value) # buscar en sub arbol derecho\r\n",
        "\r\n",
        "    def buscar(self, value):\r\n",
        "        if self.__root == None:\r\n",
        "            return None\r\n",
        "        else:\r\n",
        "            # Heremos busqueda recursiva\r\n",
        "            return self.__busca_nodo(self.__root, value)\r\n",
        "\r\n",
        "    def __busca_nodo(self, nodo, value):\r\n",
        "        if nodo == None:\r\n",
        "            return None\r\n",
        "        elif nodo.dato == value:\r\n",
        "            return nodo.dato\r\n",
        "        elif value < nodo.dato:\r\n",
        "            return self.__busca_nodo(nodo.left, value)\r\n",
        "        else:\r\n",
        "            return self.__busca_nodo(nodo.right, value)\r\n",
        "\r\n",
        "    def transversal(self, format = \"inorden\"):\r\n",
        "        if format == \"inorden\":\r\n",
        "            self.__recorrido_in(self.__root)\r\n",
        "        elif format == \"preorden\":\r\n",
        "            self.__recorrido_pre(self.__root)\r\n",
        "        elif format == \"posorden\":\r\n",
        "            self.__recorrido_pos(self.__root)\r\n",
        "        else:\r\n",
        "            print(\"Formato de recorrido no valido\")\r\n",
        "\r\n",
        "    def __recorrido_pre(self, nodo):\r\n",
        "        if nodo != None:\r\n",
        "            print(nodo.dato, end = \",\")\r\n",
        "            self.__recorrido_pre(nodo.left)\r\n",
        "            self.__recorrido_pre(nodo.right)\r\n",
        "\r\n",
        "    def __recorrido_in(self, nodo):\r\n",
        "        if nodo != None:\r\n",
        "            self.__recorrido_in(nodo.left)\r\n",
        "            print(nodo.dato, end = \",\")\r\n",
        "            self.__recorrido_in(nodo.right)\r\n",
        "\r\n",
        "    def __recorrido_pos(self, nodo):\r\n",
        "        if nodo != None:\r\n",
        "            self.__recorrido_pos(nodo.left)\r\n",
        "            self.__recorrido_pos(nodo.right)\r\n",
        "            print(nodo.dato, end = \",\")\r\n",
        "\r\n",
        "    def eliminar(self, value):\r\n",
        "        tmp = None\r\n",
        "        nodo = None \r\n",
        "        previo = None\r\n",
        "        n = self.__root\r\n",
        "        print(n.dato)\r\n",
        "        while (n != None and n.dato != value):\r\n",
        "            previo = n\r\n",
        "            if n.dato < value:\r\n",
        "                n = n.right\r\n",
        "            else:\r\n",
        "                n = n.left\r\n",
        "        nodo = n\r\n",
        "        if (n != None and n.dato == value):\r\n",
        "            if (nodo.right == None and nodo.left == None):\r\n",
        "                nodo = None\r\n",
        "            elif (nodo.right != None and nodo.left == None):\r\n",
        "                nodo = nodo.right\r\n",
        "            elif (nodo.right == None and nodo.left != None):\r\n",
        "                nodo = nodo.left\r\n",
        "            else:\r\n",
        "                tmp = nodo.left\r\n",
        "                while tmp.right != None:\r\n",
        "                    tmp = tmp.right\r\n",
        "                tmp.right = nodo.right\r\n",
        "                nodo = nodo.left\r\n",
        "            if n == self.__root:\r\n",
        "                self.__root = nodo\r\n",
        "            elif previo.left == n:\r\n",
        "                previo.left = nodo\r\n",
        "            else: \r\n",
        "                previo.right = nodo\r\n",
        "        elif self.__root != None:\r\n",
        "            print(\"No existe\")\r\n",
        "        else:\r\n",
        "            print(\"Árbol vacío\")"
      ],
      "execution_count": 56,
      "outputs": []
    },
    {
      "cell_type": "code",
      "metadata": {
        "colab": {
          "base_uri": "https://localhost:8080/"
        },
        "id": "zXfUDgnRVQC_",
        "outputId": "c29c9959-d592-42e7-c556-55099fcc4a7b"
      },
      "source": [
        "bst2 = BinarySearchTree()\r\n",
        "bst2.insert(50)\r\n",
        "bst2.insert(40)\r\n",
        "bst2.insert(20)\r\n",
        "bst2.insert(45)\r\n",
        "bst2.insert(80)\r\n",
        "bst2.insert(60)\r\n",
        "bst2.insert(90)\r\n",
        "bst2.insert(85)\r\n",
        "bst2.insert(100)\r\n",
        "bst2.insert(95)\r\n",
        "\r\n",
        "print(\"Árbol:\")\r\n",
        "bst2.transversal(format = \"preorden\")\r\n",
        "\r\n",
        "bst2.eliminar(90)\r\n",
        "\r\n",
        "print(\"\\nNuevo Árbol:\")\r\n",
        "bst2.transversal(format = \"preorden\")\r\n",
        "\r\n",
        "bst2.eliminar(45)\r\n",
        "\r\n",
        "print(\"\\nNuevo Árbol:\")\r\n",
        "bst2.transversal(format = \"preorden\")\r\n",
        "\r\n",
        "bst2.eliminar(100)\r\n",
        "\r\n",
        "print(\"\\nNuevo Árbol:\")\r\n",
        "bst2.transversal(format = \"preorden\")"
      ],
      "execution_count": 61,
      "outputs": [
        {
          "output_type": "stream",
          "text": [
            "Árbol:\n",
            "50,40,20,45,80,60,90,85,100,95,50\n",
            "\n",
            "Nuevo Árbol:\n",
            "50,40,20,45,80,60,85,100,95,50\n",
            "\n",
            "Nuevo Árbol:\n",
            "50,40,20,80,60,85,100,95,50\n",
            "\n",
            "Nuevo Árbol:\n",
            "50,40,20,80,60,85,95,"
          ],
          "name": "stdout"
        }
      ]
    },
    {
      "cell_type": "code",
      "metadata": {
        "id": "eLcACp-hb4AK",
        "colab": {
          "base_uri": "https://localhost:8080/"
        },
        "outputId": "76705c09-14f8-4cfa-cbe2-da3cc6bd6db7"
      },
      "source": [
        "bst = BinarySearchTree()\r\n",
        "bst.insert(50)\r\n",
        "bst.insert(30)\r\n",
        "bst.insert(20)\r\n",
        "res = bst.buscar(30) # true \r\n",
        "print(\"Dato: \" + str(res))\r\n",
        "print(bst.buscar(40))\r\n",
        "print(\"Recorrido pre:\")\r\n",
        "bst.transversal(format = \"preorden\")\r\n",
        "print(\"Recorrido inorden\")\r\n",
        "bst.transversal()\r\n",
        "print(\"Recorrido pos:\")\r\n",
        "bst.transversal(format = \"posorden\")\r\n",
        "bst.eliminar(30)\r\n",
        "print(\"Recorrido pre:\")\r\n",
        "bst.transversal(format = \"preorden\")"
      ],
      "execution_count": 63,
      "outputs": [
        {
          "output_type": "stream",
          "text": [
            "Dato: 30\n",
            "None\n",
            "Recorrido pre:\n",
            "50,30,20,Recorrido inorden\n",
            "20,30,50,Recorrido pos:\n",
            "20,30,50,50\n",
            "Recorrido pre:\n",
            "50,20,"
          ],
          "name": "stdout"
        }
      ]
    }
  ]
}