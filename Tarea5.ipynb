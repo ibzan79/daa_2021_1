{
  "nbformat": 4,
  "nbformat_minor": 0,
  "metadata": {
    "colab": {
      "name": "Tarea5.ipynb",
      "provenance": [],
      "collapsed_sections": [],
      "authorship_tag": "ABX9TyNVbQzVmTkxyDUuN4jvP5ZY",
      "include_colab_link": true
    },
    "kernelspec": {
      "name": "python3",
      "display_name": "Python 3"
    }
  },
  "cells": [
    {
      "cell_type": "markdown",
      "metadata": {
        "id": "view-in-github",
        "colab_type": "text"
      },
      "source": [
        "<a href=\"https://colab.research.google.com/github/ibzan79/daa_2021_1/blob/master/Tarea5.ipynb\" target=\"_parent\"><img src=\"https://colab.research.google.com/assets/colab-badge.svg\" alt=\"Open In Colab\"/></a>"
      ]
    },
    {
      "cell_type": "code",
      "metadata": {
        "id": "4SMh20Yfe6dw",
        "outputId": "38994a2d-2327-4aa5-e05f-0780e2a85440",
        "colab": {
          "base_uri": "https://localhost:8080/",
          "height": 708
        }
      },
      "source": [
        "# 1, T(n) = 4\n",
        "from time import time\n",
        "def ejemplo1( n ):\n",
        "  start_time = time()\n",
        "  c = n + 1\n",
        "  d = c * n\n",
        "  e = n * n\n",
        "  total = c + e - d\n",
        "  print(f\"total = { total }\")\n",
        "  elapsed_time = time() - start_time\n",
        "  print(\"Tiempo transcurrido: %0.10f segundos.\" % elapsed_time)\n",
        "\n",
        "for entrada in range(100, 1100, 100):\n",
        "  print(entrada)\n",
        "  ejemplo1(entrada)\n",
        "  print(\" \")"
      ],
      "execution_count": 28,
      "outputs": [
        {
          "output_type": "stream",
          "text": [
            "100\n",
            "total = 1\n",
            "Tiempo transcurrido: 0.0000233650 segundos.\n",
            " \n",
            "200\n",
            "total = 1\n",
            "Tiempo transcurrido: 0.0000174046 segundos.\n",
            " \n",
            "300\n",
            "total = 1\n",
            "Tiempo transcurrido: 0.0000610352 segundos.\n",
            " \n",
            "400\n",
            "total = 1\n",
            "Tiempo transcurrido: 0.0000174046 segundos.\n",
            " \n",
            "500\n",
            "total = 1\n",
            "Tiempo transcurrido: 0.0000166893 segundos.\n",
            " \n",
            "600\n",
            "total = 1\n",
            "Tiempo transcurrido: 0.0000174046 segundos.\n",
            " \n",
            "700\n",
            "total = 1\n",
            "Tiempo transcurrido: 0.0000128746 segundos.\n",
            " \n",
            "800\n",
            "total = 1\n",
            "Tiempo transcurrido: 0.0000131130 segundos.\n",
            " \n",
            "900\n",
            "total = 1\n",
            "Tiempo transcurrido: 0.0000131130 segundos.\n",
            " \n",
            "1000\n",
            "total = 1\n",
            "Tiempo transcurrido: 0.0000278950 segundos.\n",
            " \n"
          ],
          "name": "stdout"
        }
      ]
    },
    {
      "cell_type": "code",
      "metadata": {
        "id": "mWOQRba9agpP",
        "outputId": "e3118060-1b6e-4cec-c299-370b13138b41",
        "colab": {
          "base_uri": "https://localhost:8080/",
          "height": 536
        }
      },
      "source": [
        "# 2, T(n) = 1 + n^2\n",
        "from time import time\n",
        "def ejemplo2( n ):\n",
        "  start_time = time()\n",
        "  contador = 0\n",
        "  for i in range( n ) :\n",
        "    for j in range( n ) :\n",
        "      contador += 1\n",
        "  elapsed_time = time() - start_time\n",
        "  print(\"Tiempo transcurrido: %0.10f segundos.\" % elapsed_time)\n",
        "  return contador\n",
        "\n",
        "for entrada in range(100, 1100, 100):\n",
        "  print(entrada)\n",
        "  ejemplo2(entrada)\n",
        "  print(\" \")"
      ],
      "execution_count": 29,
      "outputs": [
        {
          "output_type": "stream",
          "text": [
            "100\n",
            "Tiempo transcurrido: 0.0004887581 segundos.\n",
            " \n",
            "200\n",
            "Tiempo transcurrido: 0.0017731190 segundos.\n",
            " \n",
            "300\n",
            "Tiempo transcurrido: 0.0041215420 segundos.\n",
            " \n",
            "400\n",
            "Tiempo transcurrido: 0.0123598576 segundos.\n",
            " \n",
            "500\n",
            "Tiempo transcurrido: 0.0234591961 segundos.\n",
            " \n",
            "600\n",
            "Tiempo transcurrido: 0.0225889683 segundos.\n",
            " \n",
            "700\n",
            "Tiempo transcurrido: 0.0268747807 segundos.\n",
            " \n",
            "800\n",
            "Tiempo transcurrido: 0.0358374119 segundos.\n",
            " \n",
            "900\n",
            "Tiempo transcurrido: 0.0453684330 segundos.\n",
            " \n",
            "1000\n",
            "Tiempo transcurrido: 0.0557241440 segundos.\n",
            " \n"
          ],
          "name": "stdout"
        }
      ]
    },
    {
      "cell_type": "code",
      "metadata": {
        "id": "Q2OvGj5CfEbQ",
        "outputId": "03261ae7-a745-42f1-c6ac-26e23a6b93ce",
        "colab": {
          "base_uri": "https://localhost:8080/",
          "height": 536
        }
      },
      "source": [
        "# 3, T(n) = 102\n",
        "from time import time\n",
        "def ejemplo3( n ): # n=4\n",
        "  start_time = time()\n",
        "  x = n * 2 # x = 8\n",
        "  y = 0   # y = 0\n",
        "  for m in range( 100 ): #3\n",
        "    y = x - n   # y = 4\n",
        "  elapsed_time = time() - start_time\n",
        "  print(\"Tiempo transcurrido: %0.10f segundos.\" % elapsed_time)\n",
        "  return y\n",
        "\n",
        "for entrada in range(100, 1100, 100):\n",
        "  print(entrada)\n",
        "  ejemplo3(entrada)\n",
        "  print(\" \")"
      ],
      "execution_count": 30,
      "outputs": [
        {
          "output_type": "stream",
          "text": [
            "100\n",
            "Tiempo transcurrido: 0.0000088215 segundos.\n",
            " \n",
            "200\n",
            "Tiempo transcurrido: 0.0000069141 segundos.\n",
            " \n",
            "300\n",
            "Tiempo transcurrido: 0.0000107288 segundos.\n",
            " \n",
            "400\n",
            "Tiempo transcurrido: 0.0000100136 segundos.\n",
            " \n",
            "500\n",
            "Tiempo transcurrido: 0.0000095367 segundos.\n",
            " \n",
            "600\n",
            "Tiempo transcurrido: 0.0000112057 segundos.\n",
            " \n",
            "700\n",
            "Tiempo transcurrido: 0.0000090599 segundos.\n",
            " \n",
            "800\n",
            "Tiempo transcurrido: 0.0000092983 segundos.\n",
            " \n",
            "900\n",
            "Tiempo transcurrido: 0.0000088215 segundos.\n",
            " \n",
            "1000\n",
            "Tiempo transcurrido: 0.0000085831 segundos.\n",
            " \n"
          ],
          "name": "stdout"
        }
      ]
    },
    {
      "cell_type": "code",
      "metadata": {
        "id": "vNpS7TZyfXBo",
        "outputId": "208d0a56-78e5-4fb4-fd0e-3ac18cba4956",
        "colab": {
          "base_uri": "https://localhost:8080/",
          "height": 536
        }
      },
      "source": [
        "# 4, T(n) = 3\n",
        "from time import time\n",
        "def ejemplo4( n ):\n",
        "  start_time = time()\n",
        "  x = 3 * 3.1416 + n\n",
        "  y = x + 3 * 3 - n\n",
        "  z = x + y\n",
        "  elapsed_time = time() - start_time\n",
        "  print(\"Tiempo transcurrido: %0.10f segundos.\" % elapsed_time)\n",
        "  return z\n",
        "\n",
        "for entrada in range(100, 1100, 100):\n",
        "  print(entrada)\n",
        "  ejemplo4(entrada)\n",
        "  print(\" \")"
      ],
      "execution_count": 31,
      "outputs": [
        {
          "output_type": "stream",
          "text": [
            "100\n",
            "Tiempo transcurrido: 0.0000016689 segundos.\n",
            " \n",
            "200\n",
            "Tiempo transcurrido: 0.0000007153 segundos.\n",
            " \n",
            "300\n",
            "Tiempo transcurrido: 0.0000004768 segundos.\n",
            " \n",
            "400\n",
            "Tiempo transcurrido: 0.0000007153 segundos.\n",
            " \n",
            "500\n",
            "Tiempo transcurrido: 0.0000011921 segundos.\n",
            " \n",
            "600\n",
            "Tiempo transcurrido: 0.0000011921 segundos.\n",
            " \n",
            "700\n",
            "Tiempo transcurrido: 0.0000011921 segundos.\n",
            " \n",
            "800\n",
            "Tiempo transcurrido: 0.0000014305 segundos.\n",
            " \n",
            "900\n",
            "Tiempo transcurrido: 0.0000002384 segundos.\n",
            " \n",
            "1000\n",
            "Tiempo transcurrido: 0.0000011921 segundos.\n",
            " \n"
          ],
          "name": "stdout"
        }
      ]
    },
    {
      "cell_type": "code",
      "metadata": {
        "id": "07hhjA1Hfxkq",
        "outputId": "8a4544cb-4c01-40e5-c7c7-b9b8cb3e7fa2",
        "colab": {
          "base_uri": "https://localhost:8080/",
          "height": 536
        }
      },
      "source": [
        "# 5, T(x) = 1 + x\n",
        "from time import time\n",
        "def ejemplo5( x ):\n",
        "  start_time = time()\n",
        "  n = 10\n",
        "  for j in range( 0 , x , 1 ):\n",
        "    n = j + n\n",
        "  elapsed_time = time() - start_time\n",
        "  print(\"Tiempo transcurrido: %0.10f segundos.\" % elapsed_time)\n",
        "  return n\n",
        "\n",
        "for entrada in range(100, 1100, 100):\n",
        "  print(entrada)\n",
        "  ejemplo5(entrada)\n",
        "  print(\" \")"
      ],
      "execution_count": 32,
      "outputs": [
        {
          "output_type": "stream",
          "text": [
            "100\n",
            "Tiempo transcurrido: 0.0000102520 segundos.\n",
            " \n",
            "200\n",
            "Tiempo transcurrido: 0.0000183582 segundos.\n",
            " \n",
            "300\n",
            "Tiempo transcurrido: 0.0000333786 segundos.\n",
            " \n",
            "400\n",
            "Tiempo transcurrido: 0.0000290871 segundos.\n",
            " \n",
            "500\n",
            "Tiempo transcurrido: 0.0000371933 segundos.\n",
            " \n",
            "600\n",
            "Tiempo transcurrido: 0.0000486374 segundos.\n",
            " \n",
            "700\n",
            "Tiempo transcurrido: 0.0000653267 segundos.\n",
            " \n",
            "800\n",
            "Tiempo transcurrido: 0.0000627041 segundos.\n",
            " \n",
            "900\n",
            "Tiempo transcurrido: 0.0000696182 segundos.\n",
            " \n",
            "1000\n",
            "Tiempo transcurrido: 0.0002355576 segundos.\n",
            " \n"
          ],
          "name": "stdout"
        }
      ]
    },
    {
      "cell_type": "code",
      "metadata": {
        "id": "SKyDXRLnma5C",
        "outputId": "accb01c3-c29f-46e5-defe-b0c539c83c01",
        "colab": {
          "base_uri": "https://localhost:8080/",
          "height": 536
        }
      },
      "source": [
        "# 6 con modificación\n",
        "from time import time\n",
        "def ejemplo6( n ):\n",
        "  start_time = time()\n",
        "  data=[[[1 for x in range(n)] for x in range(n)] \n",
        "        for x in range(n)]\n",
        "  suma = 0\n",
        "  for d in range(n):\n",
        "      for r in range(n):\n",
        "          for c in range(n):\n",
        "              suma += data[d][r][c]\n",
        "  elapsed_time = time() - start_time\n",
        "  print(\"Tiempo transcurrido: %0.10f segundos.\" % elapsed_time)\n",
        "  return suma\n",
        "\n",
        "for entrada in range(100, 1100, 100):\n",
        "  print(entrada)\n",
        "  ejemplo6( entrada )\n",
        "  print(\" \")"
      ],
      "execution_count": null,
      "outputs": [
        {
          "output_type": "stream",
          "text": [
            "100\n",
            "Tiempo transcurrido: 0.1313259602 segundos.\n",
            " \n",
            "200\n",
            "Tiempo transcurrido: 0.9840452671 segundos.\n",
            " \n",
            "300\n",
            "Tiempo transcurrido: 3.4779164791 segundos.\n",
            " \n",
            "400\n",
            "Tiempo transcurrido: 8.9650154114 segundos.\n",
            " \n",
            "500\n",
            "Tiempo transcurrido: 17.9512476921 segundos.\n",
            " \n",
            "600\n",
            "Tiempo transcurrido: 31.1155047417 segundos.\n",
            " \n",
            "700\n",
            "Tiempo transcurrido: 51.1613285542 segundos.\n",
            " \n",
            "800\n",
            "Tiempo transcurrido: 80.0223929882 segundos.\n",
            " \n",
            "900\n",
            "Tiempo transcurrido: 109.6764981747 segundos.\n",
            " \n",
            "1000\n",
            "Tiempo transcurrido: 155.4268453121 segundos.\n",
            " \n"
          ],
          "name": "stdout"
        }
      ]
    }
  ]
}